{
 "cells": [
  {
   "cell_type": "markdown",
   "id": "78952462-163f-426e-a43b-774db1cd44b1",
   "metadata": {},
   "source": [
    "Hypothesis testing"
   ]
  },
  {
   "cell_type": "code",
   "execution_count": 2,
   "id": "a8dfad27-f5af-4367-8fbd-0181c923eb0e",
   "metadata": {},
   "outputs": [
    {
     "name": "stdout",
     "output_type": "stream",
     "text": [
      "Defaulting to user installation because normal site-packages is not writeableNote: you may need to restart the kernel to use updated packages.\n"
     ]
    },
    {
     "name": "stderr",
     "output_type": "stream",
     "text": [
      "\n",
      "[notice] A new release of pip is available: 24.0 -> 24.2\n",
      "[notice] To update, run: python.exe -m pip install --upgrade pip\n"
     ]
    },
    {
     "name": "stdout",
     "output_type": "stream",
     "text": [
      "\n",
      "Requirement already satisfied: scipy in c:\\users\\razil\\appdata\\roaming\\python\\python312\\site-packages (1.14.1)\n",
      "Requirement already satisfied: numpy<2.3,>=1.23.5 in c:\\users\\razil\\appdata\\roaming\\python\\python312\\site-packages (from scipy) (1.26.4)\n"
     ]
    }
   ],
   "source": [
    "pip install scipy"
   ]
  },
  {
   "cell_type": "code",
   "execution_count": 7,
   "id": "50056860-6fdf-4c30-bd87-7dbbc41556e6",
   "metadata": {},
   "outputs": [],
   "source": [
    "import scipy.stats as stats\n",
    "import numpy as np"
   ]
  },
  {
   "cell_type": "code",
   "execution_count": 4,
   "id": "dd0da110-e857-4700-8124-97f4b1975126",
   "metadata": {},
   "outputs": [],
   "source": [
    "from scipy.stats import norm"
   ]
  },
  {
   "cell_type": "markdown",
   "id": "9a1dc553-2da9-4f6c-a8b0-ec7b7b9a7237",
   "metadata": {},
   "source": [
    "\r\n",
    "Q1.Suppose a child psychologist claims that the average time working mothers spend talking to their children is at least 11 minutes per day. You conduct a random sample of 1000 working mothers and find they spend an average of 11.5 minutes per day talking with their children. Assume prior research suggests the population standard deviation is 2.3 minutes. Conduct a test with a level of significance of alpha = 0.05"
   ]
  },
  {
   "cell_type": "code",
   "execution_count": 8,
   "id": "99181d45-52c6-47dd-8db3-8deec55d20ca",
   "metadata": {},
   "outputs": [
    {
     "name": "stdout",
     "output_type": "stream",
     "text": [
      "The Z score is 6.874516652539955 and critical value of z is -1.6448536269514729\n"
     ]
    }
   ],
   "source": [
    "# Given data\n",
    "n = 1000 # sample size\n",
    "sample_mean = 11.5 # sample mean\n",
    "population_mean = 11\n",
    "std = 2.3\n",
    "alpha = 0.05\n",
    "z_score = (sample_mean - population_mean)/(std/np.sqrt(n)) \n",
    "z_critical = stats.norm.ppf(alpha)\n",
    "print(\"The Z score is\",z_score,\"and critical value of z is\",z_critical)"
   ]
  },
  {
   "cell_type": "code",
   "execution_count": 9,
   "id": "7351ef6e-7f57-486d-8688-5be4de082918",
   "metadata": {},
   "outputs": [
    {
     "name": "stdout",
     "output_type": "stream",
     "text": [
      " There is insufficient evidence to suggest that the average time working mothers spend talking to their children is greater than 11 minutes per day,Accept the null hypothesis\n"
     ]
    }
   ],
   "source": [
    "if z_score < z_critical:\n",
    "    print(\"There is sufficient evidence to suggest that the average time working mothers spend talking to their children is greater than 11 minutes per day,Reject the null hypothesis\")\n",
    "else:\n",
    "    print(\" There is insufficient evidence to suggest that the average time working mothers spend talking to their children is greater than 11 minutes per day,Accept the null hypothesis\")"
   ]
  },
  {
   "cell_type": "markdown",
   "id": "496753ef-15bd-4c65-b4db-45547256e3e3",
   "metadata": {},
   "source": [
    "Q2. A coffee shop claims that their average wait time for customers is less than 5 minutes. To test this claim, a sample of 40 customers is taken, and their wait times are recorded. The sample mean wait time is found to be 4.6 minutes with a standard deviation of 0.8 minutes. Perform a hypothesis test at a significance level of 0.05 and determine whether there is enough evidence to support the coffee shop's claim"
   ]
  },
  {
   "cell_type": "code",
   "execution_count": 10,
   "id": "5565c983-9402-49e9-980f-b6fa77564240",
   "metadata": {},
   "outputs": [
    {
     "name": "stdout",
     "output_type": "stream",
     "text": [
      "The t score is 279.86157292490157 and the critical value is -1.684875121711225\n"
     ]
    }
   ],
   "source": [
    "n1 = 40\n",
    "sample_mean1 = 4.6\n",
    "population_mean1 = 5\n",
    "std1=0.8\n",
    "alpha1 = 0.05\n",
    "t_score = (n1 - sample_mean1)/(std1/np.sqrt(n1))\n",
    "degree_freedom = n1-1\n",
    "t_critical = stats.t.ppf(alpha,degree_freedom)\n",
    "print(\"The t score is\",t_score,\"and the critical value is\",t_critical)"
   ]
  },
  {
   "cell_type": "code",
   "execution_count": 11,
   "id": "10ae82f1-138a-4e32-8ff4-5b47dfd5941f",
   "metadata": {},
   "outputs": [
    {
     "name": "stdout",
     "output_type": "stream",
     "text": [
      "The t score is 279.86157292490157 and the critical value is -1.684875121711225\n"
     ]
    }
   ],
   "source": [
    "n1 = 40\n",
    "sample_mean1 = 4.6\n",
    "population_mean1 = 5\n",
    "std1=0.8\n",
    "alpha1 = 0.05\n",
    "t_score = (n1 - sample_mean1)/(std1/np.sqrt(n1))\n",
    "degree_freedom = n1-1\n",
    "t_critical = stats.t.ppf(alpha,degree_freedom)\n",
    "print(\"The t score is\",t_score,\"and the critical value is\",t_critical)"
   ]
  },
  {
   "cell_type": "code",
   "execution_count": 12,
   "id": "6b7d1246-debc-4708-a161-1501b363bb85",
   "metadata": {},
   "outputs": [
    {
     "name": "stdout",
     "output_type": "stream",
     "text": [
      "There is insufficient evidence to suggest that the average time for customers is less than 5 minutes. Fail to reject the null hypothesis.\n"
     ]
    }
   ],
   "source": [
    "if t_score<t_critical:\n",
    "    print(\"There is sufficient evidence to suggest that the average wait time for customers is less than 5 minutes.Reject the null hypothesis.\")\n",
    "else:\n",
    "    print(\"There is insufficient evidence to suggest that the average time for customers is less than 5 minutes. Fail to reject the null hypothesis.\")"
   ]
  },
  {
   "cell_type": "code",
   "execution_count": null,
   "id": "4e5d4fce-1688-4c2b-83e8-56237a5ddfdd",
   "metadata": {},
   "outputs": [],
   "source": []
  }
 ],
 "metadata": {
  "kernelspec": {
   "display_name": "Python 3 (ipykernel)",
   "language": "python",
   "name": "python3"
  },
  "language_info": {
   "codemirror_mode": {
    "name": "ipython",
    "version": 3
   },
   "file_extension": ".py",
   "mimetype": "text/x-python",
   "name": "python",
   "nbconvert_exporter": "python",
   "pygments_lexer": "ipython3",
   "version": "3.12.1"
  }
 },
 "nbformat": 4,
 "nbformat_minor": 5
}
